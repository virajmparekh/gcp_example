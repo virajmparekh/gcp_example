{
 "cells": [
  {
   "cell_type": "markdown",
   "metadata": {},
   "source": [
    "# Using Big Query in Astronomer Airflow"
   ]
  },
  {
   "cell_type": "markdown",
   "metadata": {},
   "source": [
    "## Start a local version of Astronomer\n",
    "\n",
    "### Cloud\n",
    "`astro airflow up`\n",
    "\n",
    "### Enterprise\n",
    "`astro airflow start`\n",
    "\n",
    "We recommend keeping a consistent project directory:\n",
    "\n",
    "### Cloud\n",
    "### Enterprise"
   ]
  },
  {
   "cell_type": "markdown",
   "metadata": {},
   "source": [
    "## Import the corresponding BigQuery Plugin\n",
    "\n",
    "### Cloud\n",
    "You'll need to clone this modified plugin into your project directory:\n",
    "\n",
    "`git clone https://github.com/airflow-plugins/bigquery_plugin`\n",
    "\n",
    "**Note:** _You'll need this extra step because Astronomer Cloud is currently on Airflow 1.8 - once 1.10 releases and we update our cloud image to pull from there, you'll be able to skip this step_\n",
    "\n",
    "Now you can import it as you would any other plugin or package:\n",
    "\n",
    "```\n",
    "from plugins.AstroBigQueryPlugin.operators.astro_big_query_operator import AstroBigQueryOperator\n",
    "```\n",
    "\n",
    "### Enterprise:\n",
    "You can just import the plugin from _airflow.contribs_\n",
    "\n",
    "```\n",
    "from airflow.contrib import BigQueryOperator\n",
    "```"
   ]
  },
  {
   "cell_type": "markdown",
   "metadata": {},
   "source": [
    "## Enter the contents of your keyfile in the Admin Panel"
   ]
  },
  {
   "cell_type": "markdown",
   "metadata": {
    "collapsed": true
   },
   "source": [
    "In your Airflow UI (localhost 8080), navigate to Admin -> Connections.\n",
    "\n",
    "If you're on Cloud, you'll put the contents of your keyfile in the `Keyfile Path` field. In Enterprise Edition, put the contents in the `Keyfile JSON` field.\n",
    "\n",
    "![title](img/connections.png)\n",
    "\n",
    "Create a new connection\n",
    "![title](img/google_cloud_connection.png)\n"
   ]
  },
  {
   "cell_type": "markdown",
   "metadata": {},
   "source": [
    "## Refer to connection in your DAG"
   ]
  },
  {
   "cell_type": "code",
   "execution_count": null,
   "metadata": {
    "collapsed": true
   },
   "outputs": [],
   "source": [
    "bigquery_task = AstroBigQueryOperator(\n",
    "        task_id='execute_query'\n",
    "        bql=\"YOUR SQL HERE\",\n",
    "        destination_dataset_table=my_target_table_full,\n",
    "        write_disposition=\"WRITE_TRUNCATE\",\n",
    "        bigquery_conn_id='google_cloud_Id',\n",
    "        dag=dag\n",
    "    )"
   ]
  }
 ],
 "metadata": {
  "kernelspec": {
   "display_name": "Python 3",
   "language": "python",
   "name": "python3"
  },
  "language_info": {
   "codemirror_mode": {
    "name": "ipython",
    "version": 3
   },
   "file_extension": ".py",
   "mimetype": "text/x-python",
   "name": "python",
   "nbconvert_exporter": "python",
   "pygments_lexer": "ipython3",
   "version": "3.6.3"
  }
 },
 "nbformat": 4,
 "nbformat_minor": 2
}
